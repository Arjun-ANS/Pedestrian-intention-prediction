{
 "cells": [
  {
   "cell_type": "code",
   "execution_count": 3,
   "id": "ca37ab7b",
   "metadata": {},
   "outputs": [
    {
     "name": "stdout",
     "output_type": "stream",
     "text": [
      "['.ipynb_checkpoints', 'action_predict.py', 'base_models.py', 'config_files', 'crossing_prediction_task.png', 'data', 'docker', 'JAAD', 'jaad_data.py', 'LICENSE', 'README.md', 'test.py', 'train_test.py', 'tster.txt', 'Untitled.ipynb', 'utils.py', '__pycache__']\n"
     ]
    }
   ],
   "source": [
    "import os"
   ]
  },
  {
   "cell_type": "code",
   "execution_count": 4,
   "id": "66f27ce4",
   "metadata": {},
   "outputs": [],
   "source": [
    "os.chdir(\"D:\\\\\")"
   ]
  },
  {
   "cell_type": "code",
   "execution_count": 5,
   "id": "5153d022",
   "metadata": {},
   "outputs": [
    {
     "name": "stdout",
     "output_type": "stream",
     "text": [
      "['$RECYCLE.BIN', '12+Rules+to+Learn+to+Code+[2nd+Edition]+2022.pdf', '2.1 DC Generator.pptx', '8085', 'analog', 'aquaclip', 'arduino', 'arduino-ide_2.2.1_Windows_64bit.exe', 'ASCx64.dll', 'ASYx64.dll', 'BASIC_CDMA.zip', 'Block Alphabet.debabc70615c328bdbbf.piv', 'C code', 'C++', 'C5_models.txt', 'Changelog.txt', 'Chime-5.23.31831.exe', 'Cisco Packet Tracer 8.2.1', 'corepack', 'corepack.cmd', 'Design_of_8-bit_SAR-ADC_CMOS.pdf', 'development OS', 'Draft1.asc', 'Draft2.log', 'DumpStack.log', 'DumpStack.log.tmp', 'EC24S77408248_ScoreCard.pdf', 'esp', 'Espressif', 'examples', 'final year project', 'fingerprint_project', 'folder', 'gate', 'Geekbench 6', 'git', 'github repositories', 'github_repo.zip', 'install_tools.bat', 'java', 'JavaCodingPack-0.4.2.exe', 'javajr', 'javajre', 'lib', 'License.pdf', 'License.txt', 'LTspiceHelp.chm', 'LTspiceHelp.pdf', 'LTspiceXVII', 'matlab', 'mccdmaU1U2_Tap123_report.zip', 'microc', 'Microprocessor Architecture, Programming, and Applications with the 8085 ( PDFDrive ).pdf', 'MoveExe.exe', 'New folder', 'New folder (2)', 'New folder (3)', 'NI labview', 'nmos_t2.spi', 'node.exe', 'nodevars.bat', 'node_modules', 'npm', 'npm.cmd', 'npx', 'npx.cmd', 'OS (C) - Shortcut (2).lnk', 'OS (C) - Shortcut (3).lnk', 'OS (C) - Shortcut.lnk', 'os ntoes', 'OS_notes', 'paper', 'password_db', 'personal folder', 'project_auxillary', 'proteus', 'Proteus 8.10 SP3.rar', 'R', 'R programs', 'ReadMe.txt', 'Recovery', 'robotics', 'secret.html', 'sem6', 'simulation_files', 'stamp.bin', 'STM32', 'System Volume Information', 'Thunderbird Setup 115.7.0.exe', 'Unconfirmed 748951.crdownload', 'uninstall.info', 'Unit-1 PPT-1 8085.pdf', 'Unit-1 PPT-2 8086.pdf', 'UnLink.exe', 'Users', 'VLSI final year proj', 'web', 'web_database', 'Wireshark', 'Xmind-for-Windows-x64bit-23.11.04336-202311170132.exe', 'XVIIx64.exe', 'XVIIx86.exe', 'yrc_design', 'zummit', '[HC].Tenet.2020.IMAX.720p.10bit.BluRay.6CH.x265.HEVC-PSA.mkv']\n"
     ]
    }
   ],
   "source": [
    "print(os.listdir())"
   ]
  },
  {
   "cell_type": "code",
   "execution_count": null,
   "id": "fe71d89b",
   "metadata": {},
   "outputs": [],
   "source": [
    "from jaad_data import JAAD\n",
    "imdb = JAAD()\n",
    "imdb.extac"
   ]
  }
 ],
 "metadata": {
  "kernelspec": {
   "display_name": "Python 3 (ipykernel)",
   "language": "python",
   "name": "python3"
  },
  "language_info": {
   "codemirror_mode": {
    "name": "ipython",
    "version": 3
   },
   "file_extension": ".py",
   "mimetype": "text/x-python",
   "name": "python",
   "nbconvert_exporter": "python",
   "pygments_lexer": "ipython3",
   "version": "3.10.9"
  }
 },
 "nbformat": 4,
 "nbformat_minor": 5
}
